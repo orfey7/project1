{
 "cells": [
  {
   "cell_type": "code",
   "execution_count": 95,
   "metadata": {},
   "outputs": [],
   "source": [
    "import numpy\n",
    "import math\n",
    "import scipy.special\n",
    "import matplotlib.pyplot as plt\n",
    "import scipy.ndimage\n",
    "from tqdm import tqdm\n",
    "%matplotlib inline"
   ]
  },
  {
   "cell_type": "code",
   "execution_count": 74,
   "metadata": {},
   "outputs": [],
   "source": [
    "# проверим, что все нормально считалось, взяв первую строчку датасета и превратим ее обратно в картинку\n",
    "check = train_data_list[1].split(\",\")\n",
    "image_array = numpy.asfarray(check[1:]).reshape(28, 28)"
   ]
  },
  {
   "cell_type": "code",
   "execution_count": 74,
   "metadata": {},
   "outputs": [],
   "source": [
    "# проверим, что все нормально считалось, взяв первую строчку датасета и превратим ее обратно в картинку\n",
    "check = train_data_list[1].split(\",\")\n",
    "image_array = numpy.asfarray(check[1:]).reshape(28, 28)"
   ]
  },
  {
   "cell_type": "code",
   "execution_count": 74,
   "metadata": {},
   "outputs": [],
   "source": [
    "# проверим, что все нормально считалось, взяв первую строчку датасета и превратим ее обратно в картинку\n",
    "check = train_data_list[1].split(\",\")\n",
    "image_array = numpy.asfarray(check[1:]).reshape(28, 28)"
   ]
  },
  {
   "cell_type": "code",
   "execution_count": 75,
   "metadata": {},
   "outputs": [
    {
     "data": {
      "text/plain": [
       "<matplotlib.image.AxesImage at 0x11a26aef0>"
      ]
     },
     "execution_count": 75,
     "metadata": {},
     "output_type": "execute_result"
    },
    {
     "data": {
      "image/png": "[encoded data removed]",
      "text/plain": [
       "<Figure size 432x288 with 1 Axes>"
      ]
     },
     "metadata": {
      "needs_background": "light"
     },
     "output_type": "display_data"
    }
   ],
   "source": [
    "# вывод картинки цифры с помощью imshow\n",
    "plt.imshow(image_array, cmap=\"Greys\", interpolation=\"None\")"
   ]
  },
  {
   "cell_type": "code",
   "execution_count": 76,
   "metadata": {},
   "outputs": [],
   "source": [
    "# инициализируем нейронную сеть\n",
    "input_nodes = 784 # кол-во входных нейронов\n",
    "hidden_nodes = 200 # кол-во скрытых нейронов\n",
    "output_nodes = 10 # кол-во выходных нейронов\n",
    "learning_rate = 0.01 # коэф. обучения \n",
    "\n",
    "n = neuralNetwork(input_nodes, hidden_nodes, output_nodes, learning_rate) # создаем объект класса нашей нейронки"
   ]
  },
  {
   "cell_type": "code",
   "execution_count": 77,
   "metadata": {},
   "outputs": [
    {
     "name": "stderr",
     "output_type": "stream",
     "text": [
      "100%|██████████| 60000/60000 [01:47<00:00, 555.63it/s]\n",
      "100%|██████████| 60000/60000 [01:48<00:00, 553.78it/s]\n",
      "100%|██████████| 60000/60000 [02:03<00:00, 485.35it/s]\n",
      "100%|██████████| 60000/60000 [01:59<00:00, 504.01it/s]\n",
      "100%|██████████| 60000/60000 [01:59<00:00, 502.14it/s]\n"
     ]
    }
   ],
   "source": [
    "# здесь проводим обучение нашей сетки\n",
    "# делаем 5 эпох == 5 раз прогоняем обучение на одном и том же датасете\n",
    "epochs = 5\n",
    "for e in range(epochs):\n",
    "    # построчно считываем датает\n",
    "    for record in tqdm(train_data_list):\n",
    "        all_values = record.split(\",\")\n",
    "        # переводим значения цветов пикселей в размерность значений от 0 до 1, чтоб все работало нормально\n",
    "        # (нормализуем данные то есть) 255 - максимальное возможное значение цвета есь чо\n",
    "        inputs = (numpy.asfarray(all_values[1:]) / 255.0 * 0.99) + 0.01\n",
    "        # создаем корректный формат настоящего ответа. ибо изначально это лишь одна цифра, нам же нужен массив, \n",
    "        # где в значении под индексом цифры стоит 0.99, а все остальное 0.01\n",
    "        targets = numpy.zeros(output_nodes) + 0.01\n",
    "        targets[int(all_values[0])] = 0.99\n",
    "        \n",
    "        # кидаем пример на обучение\n",
    "        n.train(inputs, targets)\n",
    "        \n",
    "        # тут шаманства. Называется аугментации. Трюк в том, чтобы искусственно увеличить датасет с помощью того, что\n",
    "        # мы просто картинку поворачиваем на 10 градусов влево и называем это новым примером. Поворачиваем на 10 градусов вправо\n",
    "        # еще один новый пример. Таким образом мы увеличиваем датасет в 3 раза и учим нейронку распознавать цифры написанные под углом\n",
    "        inputs_plus10_img = scipy.ndimage.interpolation.rotate(inputs.reshape(28, 28), 10, cval=0.01, order=1 ,reshape=False)\n",
    "        n.train(inputs_plus10_img.reshape(784), targets)\n",
    "        inputs_minus10_img = scipy.ndimage.interpolation.rotate(inputs.reshape(28, 28), -10, cval=0.01, order=1 ,reshape=False)\n",
    "        n.train(inputs_minus10_img.reshape(784), targets)"
   ]
  },
  {
   "cell_type": "code",
   "execution_count": 51,
   "metadata": {},
   "outputs": [],
   "source": [
    "# то же, что и сверху, но без тюнинга\n",
    "# for record in tqdm(train_data_list):\n",
    "#     all_values = record.split(\",\")\n",
    "#     inputs = (numpy.asfarray(all_values[1:]) / 255.0 * 0.99) + 0.01\n",
    "#     targets = numpy.zeros(output_nodes) + 0.01\n",
    "#     targets[int(all_values[0])] = 0.99\n",
    "#     n.train(inputs, targets)"
   ]
  },
  {
   "cell_type": "code",
   "execution_count": 78,
   "metadata": {},
   "outputs": [],
   "source": [
    "# открываем данные для теста\n",
    "test_data_file = open(\"mnist_dataset/mnist_test.csv\", \"r\")\n",
    "test_data_list = test_data_file.readlines()\n",
    "test_data_file.close()"
   ]
  },
  {
   "cell_type": "code",
   "execution_count": 79,
   "metadata": {},
   "outputs": [
    {
     "name": "stdout",
     "output_type": "stream",
     "text": [
      "7\n"
     ]
    }
   ],
   "source": [
    "# точно так же, как и в предыдущй раз чекаем, что все норм\n",
    "all_values = test_data_list[0].split(',')\n",
    "print(all_values[0])"
   ]
  },
  {
   "cell_type": "code",
   "execution_count": 80,
   "metadata": {},
   "outputs": [
    {
     "data": {
      "text/plain": [
       "<matplotlib.image.AxesImage at 0x11a5707f0>"
      ]
     },
     "execution_count": 80,
     "metadata": {},
     "output_type": "execute_result"
    },
    {
     "data": {
      "image/png": "[encoded data removed]",
      "text/plain": [
       "<Figure size 432x288 with 1 Axes>"
      ]
     },
     "metadata": {
      "needs_background": "light"
     },
     "output_type": "display_data"
    }
   ],
   "source": [
    "# выводим картинку ровно так же, как и в прошлый раз\n",
    "image_array = numpy.asfarray(all_values[1:]).reshape(28, 28)\n",
    "plt.imshow(image_array, cmap=\"Greys\", interpolation=\"None\")"
   ]
  },
  {
   "cell_type": "code",
   "execution_count": 81,
   "metadata": {},
   "outputs": [
    {
     "name": "stdout",
     "output_type": "stream",
     "text": [
      "[[0.0128347 ]\n",
      " [0.00666933]\n",
      " [0.00237738]\n",
      " [0.00964521]\n",
      " [0.00683011]\n",
      " [0.01315142]\n",
      " [0.00323099]\n",
      " [0.98927587]\n",
      " [0.00548253]\n",
      " [0.00906609]]\n"
     ]
    }
   ],
   "source": [
    "# тестово смотрим на предсказание нашей сети для самого первого тестового примера. Видим, что наша сеть на 98 процентов уверена,\n",
    "# что это семерка тип индекс 7, понел\n",
    "a = n.query((numpy.asfarray(all_values[1:]) / 255.0 * 0.99) + 0.01)\n",
    "print(a)"
   ]
  },
  {
   "cell_type": "code",
   "execution_count": 82,
   "metadata": {},
   "outputs": [],
   "source": [
    "# подсчитываем accuracy нашей сети, тупо прогоняя все тестовые примеры и смотрим если наша нейронка угадала\n",
    "# записываем 1, если нет, то 0\n",
    "scorecard = []\n",
    "\n",
    "for record in test_data_list:\n",
    "    all_values = record.split(\",\")\n",
    "    correct_label = int(all_values[0])\n",
    "#     print(correct_label, \"истинный маркер\")\n",
    "    inputs = (numpy.asfarray(all_values[1:]) / 255.0 * 0.99) + 0.01\n",
    "    outputs = n.query(inputs)\n",
    "    label = numpy.argmax(outputs)\n",
    "#     print(label, \"ответ сети\")\n",
    "    if label == correct_label:\n",
    "        scorecard.append(1)\n",
    "    else:\n",
    "        scorecard.append(0)"
   ]
  },
  {
   "cell_type": "code",
   "execution_count": 83,
   "metadata": {},
   "outputs": [],
   "source": [
    "# можешь расскоментить и посмотреть как это выглядит\n",
    "# scorecard"
   ]
  },
  {
   "cell_type": "code",
   "execution_count": 84,
   "metadata": {},
   "outputs": [
    {
     "name": "stdout",
     "output_type": "stream",
     "text": [
      "эффективность =  0.9736\n"
     ]
    }
   ],
   "source": [
    "# ну а теперь смотрим на отношение правильных ответов ко всем ответам это и есть accuracy\n",
    "scorecard_array = numpy.asarray(scorecard)\n",
    "print('эффективность = ', scorecard_array.sum() / scorecard_array.size)"
   ]
  },
  {
   "cell_type": "code",
   "execution_count": 85,
   "metadata": {},
   "outputs": [],
   "source": [
    "import imageio\n",
    "import glob"
   ]
  },
  {
   "cell_type": "code",
   "execution_count": 91,
   "metadata": {},
   "outputs": [],
   "source": [
    "# ну дальше я уже решил сам нарисовать цифру в пэйнте и чекнуть, реально ли сеть работает правильно\n",
    "img_array = imageio.imread('test6.png', as_gray=True)"
   ]
  },
  {
   "cell_type": "code",
   "execution_count": 92,
   "metadata": {},
   "outputs": [
    {
     "data": {
      "text/plain": [
       "<matplotlib.image.AxesImage at 0x11a719518>"
      ]
     },
     "execution_count": 92,
     "metadata": {},
     "output_type": "execute_result"
    },
    {
     "data": {
      "image/png": "[encoded data removed]",
      "text/plain": [
       "<Figure size 432x288 with 1 Axes>"
      ]
     },
     "metadata": {
      "needs_background": "light"
     },
     "output_type": "display_data"
    }
   ],
   "source": [
    "# инвертирую цвета для корректной работы, чекаю, что все норм и я реально дал картинку пятерки\n",
    "img_data = 255.0 - img_array.reshape(784)\n",
    "img_data1 = img_data.reshape(28, 28)\n",
    "plt.imshow(img_data1, cmap=\"Greys\", interpolation=\"None\")"
   ]
  },
  {
   "cell_type": "code",
   "execution_count": 93,
   "metadata": {},
   "outputs": [],
   "source": [
    "# нормализовал значение пикселей, чтоб сеть все нормально поняла\n",
    "img_data = (img_data / 255.0 * 0.99) + 0.01"
   ]
  },
  {
   "cell_type": "code",
   "execution_count": 94,
   "metadata": {},
   "outputs": [
    {
     "data": {
      "text/plain": [
       "5"
      ]
     },
     "execution_count": 94,
     "metadata": {},
     "output_type": "execute_result"
    }
   ],
   "source": [
    "# чекнул ответ сети. она думает, что это 5\n",
    "numpy.argmax(n.query(img_data))"
   ]
  },
  {
   "cell_type": "code",
   "execution_count": null,
   "metadata": {},
   "outputs": [],
   "source": []
  }
 ],
 "metadata": {
  "kernelspec": {
   "display_name": "Python 3",
   "language": "python",
   "name": "python3"
  },
  "language_info": {
   "codemirror_mode": {
    "name": "ipython",
    "version": 3
   },
   "file_extension": ".py",
   "mimetype": "text/x-python",
   "name": "python",
   "nbconvert_exporter": "python",
   "pygments_lexer": "ipython3",
   "version": "3.7.6"
  }
 },
 "nbformat": 4,
 "nbformat_minor": 2
}
